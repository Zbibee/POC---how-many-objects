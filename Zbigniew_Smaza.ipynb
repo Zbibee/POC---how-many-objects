{
 "cells": [
  {
   "cell_type": "code",
   "execution_count": 2,
   "metadata": {},
   "outputs": [
    {
     "name": "stdout",
     "output_type": "stream",
     "text": [
      "Prog binaryzacji:  0.5492087913602941\n"
     ]
    },
    {
     "data": {
      "image/png": "[encoded data removed]",
      "text/plain": [
       "<matplotlib.figure.Figure at 0x7b29f53f60>"
      ]
     },
     "metadata": {},
     "output_type": "display_data"
    },
    {
     "name": "stdout",
     "output_type": "stream",
     "text": [
      "Ilosc obiektow: 10\n",
      "rozmiar obiektow to: 10980\n",
      "Pole zajmowane przez obiekty: 24.19%\n",
      "Obiekt o środku ciezkosci: (61, 48) Współczynnik Fereta: 1.0303030303030303 Współczynnik Bliss'a: 0.9998909684354478\n",
      "Obiekt o środku ciezkosci: (66, 160) Współczynnik Fereta: 1.0 Współczynnik Bliss'a: 0.9999013018492539\n",
      "Obiekt o środku ciezkosci: (67, 122) Współczynnik Fereta: 1.0 Współczynnik Bliss'a: 1.0000001082777783\n",
      "Obiekt o środku ciezkosci: (83, 74) Współczynnik Fereta: 0.967741935483871 Współczynnik Bliss'a: 0.9999052105507434\n",
      "Obiekt o środku ciezkosci: (107, 137) Współczynnik Fereta: 1.0 Współczynnik Bliss'a: 0.9999560337854517\n",
      "Obiekt o środku ciezkosci: (107, 138) Współczynnik Fereta: 1.0 Współczynnik Bliss'a: 0.9999566942907209\n",
      "Obiekt o środku ciezkosci: (116, 63) Współczynnik Fereta: 1.0 Współczynnik Bliss'a: 1.0000272573881877\n",
      "Obiekt o środku ciezkosci: (131, 104) Współczynnik Fereta: 0.972972972972973 Współczynnik Bliss'a: 0.999832793068262\n",
      "Obiekt o środku ciezkosci: (141, 155) Współczynnik Fereta: 0.9736842105263158 Współczynnik Bliss'a: 0.9997192464075672\n",
      "Obiekt o środku ciezkosci: (156, 44) Współczynnik Fereta: 0.9428571428571428 Współczynnik Bliss'a: 0.9997888312307612\n"
     ]
    }
   ],
   "source": [
    "import numpy as np\n",
    "import math\n",
    "import matplotlib.pyplot as plt\n",
    "from skimage import io\n",
    "from skimage.color import rgb2gray\n",
    "from skimage import filters, morphology\n",
    "from scipy import ndimage as ndi\n",
    "from skimage.feature import peak_local_max\n",
    "from scipy.spatial import distance\n",
    "\n",
    "path = './images/' \n",
    "\n",
    "image = io.imread(path +'01.png')\n",
    "image = rgb2gray(image)\n",
    "#image = filters.median(image)\n",
    "\n",
    "th = filters.threshold_otsu(image)\n",
    "print('Prog binaryzacji: ', th)\n",
    "\n",
    "binary = image > th\n",
    "binary = morphology.remove_small_holes(binary)\n",
    "\n",
    "d = ndi.distance_transform_edt(binary) #oblicza odleglosci od krawedzi\n",
    "local_max = peak_local_max(d, indices=False, min_distance=15, labels=binary)# szuka punktu najdalej oddalonego od krawedzi\n",
    "\n",
    "markers = ndi.label(local_max)[0] #ideksy\n",
    "ilosc_obiektow = ndi.label(local_max)[1] # ilosc obiektow\n",
    "labels = morphology.watershed(-d, markers, mask=binary)\n",
    "\n",
    "\n",
    "sr_ciezkosci = []\n",
    "for i in range(markers.shape[0]):\n",
    "    for j in range(markers.shape[1]):\n",
    "        if markers[i][j] != 0:\n",
    "            sr_ciezkosci.append((i,j))\n",
    "            \n",
    "def drawMarkers(image, coords):\n",
    "    image = np.copy(image)\n",
    "    for item in coords:\n",
    "        y,x = item\n",
    "        for j in range(y-5, y+6):\n",
    "            image[j,x] = 0\n",
    "        for i in range(x-5, x+6):\n",
    "            image[y,i] = 0\n",
    "            \n",
    "    return image\n",
    "\n",
    "def cog2(points):\n",
    "    mx = 0\n",
    "    my = 0\n",
    "    for (y, x) in points:\n",
    "        mx = mx + x\n",
    "        my = my + y\n",
    "    mx = mx/len(points)\n",
    "    my = my/len(points)\n",
    "\n",
    "    return [my, mx]\n",
    "\n",
    "def bliss(points):\n",
    "    s = len(points)\n",
    "    my, mx = cog2(points)\n",
    "    r = 0\n",
    "    for point in points:\n",
    "        r = r + distance.euclidean(point, (my, mx))**2\n",
    "    return s/(math.sqrt(2*math.pi*r))\n",
    "\n",
    "def feret(points):\n",
    "    px = [x for (y, x) in points]\n",
    "    py = [y for (y, x) in points]\n",
    "\n",
    "    fx = max(px) - min(px)\n",
    "    fy = max(py) - min(py)    \n",
    "    if fx != 0:\n",
    "        return float(fy)/float(fx)\n",
    "    \n",
    "lo = drawMarkers(labels, sr_ciezkosci)\n",
    "plt.imshow(lo,cmap='hot')\n",
    "plt.show()\n",
    "    \n",
    "tab_feret =[]\n",
    "tab_bliss =[]    \n",
    "rozmiar_obiektow = 0\n",
    "for label in np.unique(labels):\n",
    "    if label == 0: continue\n",
    "    points = []\n",
    "    \n",
    "    mask = np.zeros(binary.shape, dtype=\"uint8\")\n",
    "    mask[labels == label] = 255\n",
    "    for i in range(mask.shape[0]):\n",
    "        for j in range(mask.shape[1]):\n",
    "            if mask[i][j] == 255:\n",
    "                points.append((i, j))\n",
    "    \n",
    "    tab_feret.append(feret(points))\n",
    "    tab_bliss.append(bliss(points))\n",
    "\n",
    "    rozmiar_obiektow += len(points)\n",
    "    \n",
    "print(\"Ilosc obiektow: {}\".format(ilosc_obiektow))\n",
    "print(\"rozmiar obiektow to: {}\".format(rozmiar_obiektow))\n",
    "print(\"Pole zajmowane przez obiekty: {:.2%}\".format((rozmiar_obiektow*100)/(image.shape[0]*image.shape[1])/100)) \n",
    "for i in range(ilosc_obiektow):\n",
    "    print(\"Obiekt o środku ciezkosci: {} Współczynnik Fereta: {} Współczynnik Bliss'a: {}\".format(sr_ciezkosci[i], tab_feret[i], tab_bliss[i]))"
   ]
  },
  {
   "cell_type": "code",
   "execution_count": null,
   "metadata": {},
   "outputs": [],
   "source": []
  },
  {
   "cell_type": "code",
   "execution_count": null,
   "metadata": {},
   "outputs": [],
   "source": []
  }
 ],
 "metadata": {
  "kernelspec": {
   "display_name": "Python 3",
   "language": "python",
   "name": "python3"
  },
  "language_info": {
   "codemirror_mode": {
    "name": "ipython",
    "version": 3
   },
   "file_extension": ".py",
   "mimetype": "text/x-python",
   "name": "python",
   "nbconvert_exporter": "python",
   "pygments_lexer": "ipython3",
   "version": "3.6.4"
  }
 },
 "nbformat": 4,
 "nbformat_minor": 2
}
